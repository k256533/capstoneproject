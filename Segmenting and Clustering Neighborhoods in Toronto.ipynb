{
 "cells": [
  {
   "cell_type": "markdown",
   "metadata": {},
   "source": [
    "Import Pandas and Wikipedia's Python API"
   ]
  },
  {
   "cell_type": "code",
   "execution_count": 31,
   "metadata": {},
   "outputs": [],
   "source": [
    "import wikipedia as wk\n",
    "import pandas as pd"
   ]
  },
  {
   "cell_type": "code",
   "execution_count": 32,
   "metadata": {
    "scrolled": true
   },
   "outputs": [],
   "source": [
    "html = wk.page(\"List of postal codes of Canada: M\").html().encode(\"UTF-8\")\n",
    "df = pd.read_html(html)[0]\n",
    "#df.to_csv('beautifulsoup_pandas.csv',header=0,index=False)"
   ]
  },
  {
   "cell_type": "markdown",
   "metadata": {},
   "source": [
    "Remove rows that contain any \"Not assigned\" values"
   ]
  },
  {
   "cell_type": "code",
   "execution_count": 33,
   "metadata": {
    "scrolled": false
   },
   "outputs": [],
   "source": [
    "df = df[df.Borough != 'Not assigned']"
   ]
  },
  {
   "cell_type": "markdown",
   "metadata": {},
   "source": [
    "Find number of unique postcodes in Canada"
   ]
  },
  {
   "cell_type": "code",
   "execution_count": 34,
   "metadata": {},
   "outputs": [
    {
     "data": {
      "text/plain": [
       "103"
      ]
     },
     "execution_count": 34,
     "metadata": {},
     "output_type": "execute_result"
    }
   ],
   "source": [
    "df['Postcode'].nunique()"
   ]
  },
  {
   "cell_type": "markdown",
   "metadata": {},
   "source": [
    "Go through the dataframe and merge rows that have the same postal code values. "
   ]
  },
  {
   "cell_type": "code",
   "execution_count": 35,
   "metadata": {
    "scrolled": true
   },
   "outputs": [],
   "source": [
    "i = 0\n",
    "while i < len(df.index)-1:\n",
    "    if df.iloc[i,0] == df.iloc[i+1, 0]:\n",
    "        if df.iloc[i, 2] != df.iloc[i+1,2]:\n",
    "            df.iloc[i,2] = df.iloc[i,2] + \", \" + df.iloc[i+1,2]\n",
    "            df.drop(df.index[i+1], inplace = True)\n",
    "    else:\n",
    "        i+=1\n",
    "df.reset_index(inplace = True)"
   ]
  },
  {
   "cell_type": "markdown",
   "metadata": {},
   "source": [
    "After running the code, check that each postcode only appears once in the dataframe"
   ]
  },
  {
   "cell_type": "code",
   "execution_count": 36,
   "metadata": {
    "scrolled": true
   },
   "outputs": [
    {
     "data": {
      "text/plain": [
       "M4V    1\n",
       "M4C    1\n",
       "M4N    1\n",
       "M5R    1\n",
       "M6A    1\n",
       "M5G    1\n",
       "M9A    1\n",
       "M8Z    1\n",
       "M4K    1\n",
       "M9C    1\n",
       "M7A    1\n",
       "M2M    1\n",
       "M6L    1\n",
       "M4R    1\n",
       "M4Y    1\n",
       "M5X    1\n",
       "M5N    1\n",
       "M2J    1\n",
       "M1B    1\n",
       "M4W    1\n",
       "M4A    1\n",
       "M6M    1\n",
       "M1X    1\n",
       "M7R    1\n",
       "M8X    1\n",
       "M5P    1\n",
       "M6G    1\n",
       "M6J    1\n",
       "M6E    1\n",
       "M5V    1\n",
       "      ..\n",
       "M5H    1\n",
       "M5C    1\n",
       "M5T    1\n",
       "M4G    1\n",
       "M3A    1\n",
       "M5W    1\n",
       "M4J    1\n",
       "M9B    1\n",
       "M6H    1\n",
       "M9N    1\n",
       "M3M    1\n",
       "M9P    1\n",
       "M1C    1\n",
       "M6N    1\n",
       "M4T    1\n",
       "M9M    1\n",
       "M5A    1\n",
       "M1V    1\n",
       "M9V    1\n",
       "M4H    1\n",
       "M4P    1\n",
       "M1K    1\n",
       "M4X    1\n",
       "M6P    1\n",
       "M2P    1\n",
       "M1N    1\n",
       "M8Y    1\n",
       "M4S    1\n",
       "M1H    1\n",
       "M5E    1\n",
       "Name: Postcode, Length: 103, dtype: int64"
      ]
     },
     "execution_count": 36,
     "metadata": {},
     "output_type": "execute_result"
    }
   ],
   "source": [
    "df[\"Postcode\"].value_counts()"
   ]
  },
  {
   "cell_type": "markdown",
   "metadata": {},
   "source": [
    "If a cell has a borough but a \"Not assigned\" neighbourhood, change the neighbourhood name to borough name"
   ]
  },
  {
   "cell_type": "code",
   "execution_count": 27,
   "metadata": {},
   "outputs": [],
   "source": [
    "j = 0\n",
    "for i in df[\"Neighbourhood\"]:\n",
    "    if i == \"Not assigned\":\n",
    "        df.iloc[j,3] = df.iloc[j,2]\n",
    "    j+=1"
   ]
  },
  {
   "cell_type": "code",
   "execution_count": 30,
   "metadata": {},
   "outputs": [
    {
     "data": {
      "text/plain": [
       "(103, 4)"
      ]
     },
     "execution_count": 30,
     "metadata": {},
     "output_type": "execute_result"
    }
   ],
   "source": [
    "df.shape"
   ]
  }
 ],
 "metadata": {
  "kernelspec": {
   "display_name": "Python 3",
   "language": "python",
   "name": "python3"
  },
  "language_info": {
   "codemirror_mode": {
    "name": "ipython",
    "version": 3
   },
   "file_extension": ".py",
   "mimetype": "text/x-python",
   "name": "python",
   "nbconvert_exporter": "python",
   "pygments_lexer": "ipython3",
   "version": "3.7.3"
  }
 },
 "nbformat": 4,
 "nbformat_minor": 2
}
